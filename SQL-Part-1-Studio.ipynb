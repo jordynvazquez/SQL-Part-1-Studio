{
    "metadata": {
        "kernelspec": {
            "name": "SQL",
            "display_name": "SQL",
            "language": "sql"
        },
        "language_info": {
            "name": "sql",
            "version": ""
        },
        "extensions": {
            "azuredatastudio": {
                "version": 1,
                "views": []
            }
        }
    },
    "nbformat_minor": 2,
    "nbformat": 4,
    "cells": [
        {
            "cell_type": "markdown",
            "source": [
                "# SQL Part 1 Studio\n",
                "\n",
                "### Let's practice your SQL quering skills!  For each question, work along in the notebook adding your query and answering the questions. \n",
                "\n",
                "### **DataSet**\n",
                "\n",
                "### <span style=\"font-size: 14px; font-family: -apple-system, BlinkMacSystemFont, sans-serif;\">We will be using the Goodbooks-10k dataset from the exercises in the prep work.&nbsp; Feel free to reference your notebook.</span>\n",
                "\n",
                "- The dataset can be found here: [goodbooks-10k](https://www.kaggle.com/zygmunt/goodbooks-10k)\n",
                "- You can access the **BooksDB** in the Launchcode server.\n",
                "\n",
                "### **Business Issue**\n",
                "\n",
                "You work for a small independant book store and you want to increase sales by running various promotions.  Start by becoming more familar with the BooksDB."
            ],
            "metadata": {
                "azdata_cell_guid": "b9034d8a-b631-48bf-a895-1012a6ffa784"
            }
        },
        {
            "cell_type": "markdown",
            "source": [
                "## Part 1. BooksDB Questions\n",
                "\n",
                "<span style=\"color: rgba(0, 0, 0, 0.87); font-family: -apple-system, system-ui, &quot;Segoe UI&quot;, Helvetica, Arial, sans-serif, &quot;Apple Color Emoji&quot;, &quot;Segoe UI Emoji&quot;, &quot;Segoe UI Symbol&quot;; background-color: rgb(255, 255, 255);\">Question 1:&nbsp; Write a query of the books table, returning the TOP 100 results and&nbsp; includes, book_id, authors, title, average_rating.&nbsp; Use an alias for at least one column and in descending order of rating.&nbsp; What is the number one book?</span>"
            ],
            "metadata": {
                "azdata_cell_guid": "6e55eb1c-4a14-4076-90d2-95ed17a6309f",
                "tags": [
                    "hide_input"
                ]
            },
            "attachments": {}
        },
        {
            "cell_type": "code",
            "source": [
                "-- return top 100 results\n",
                "SELECT TOP 10 book_id, authors, title, average_rating AS 'Rating Average' FROM BooksDB.dbo.books ORDER BY average_rating DESC"
            ],
            "metadata": {
                "azdata_cell_guid": "470b0ca4-9a32-4b46-a42e-bbb645101769",
                "tags": [],
                "language": "sql"
            },
            "outputs": [
                {
                    "output_type": "display_data",
                    "data": {
                        "text/html": "(10 rows affected)"
                    },
                    "metadata": {}
                },
                {
                    "output_type": "display_data",
                    "data": {
                        "text/html": "Total execution time: 00:00:00.046"
                    },
                    "metadata": {}
                },
                {
                    "output_type": "execute_result",
                    "metadata": {},
                    "execution_count": 15,
                    "data": {
                        "application/vnd.dataresource+json": {
                            "schema": {
                                "fields": [
                                    {
                                        "name": "book_id"
                                    },
                                    {
                                        "name": "authors"
                                    },
                                    {
                                        "name": "title"
                                    },
                                    {
                                        "name": "Rating Average"
                                    }
                                ]
                            },
                            "data": [
                                {
                                    "0": "24812",
                                    "1": "Bill Watterson",
                                    "2": "The Complete Calvin and Hobbes",
                                    "3": "4.82"
                                },
                                {
                                    "0": "17332218",
                                    "1": "Brandon Sanderson",
                                    "2": "Words of Radiance (The Stormlight Archive, #2)",
                                    "3": "4.77"
                                },
                                {
                                    "0": "8",
                                    "1": "J.K. Rowling, Mary GrandPré",
                                    "2": "Harry Potter Boxed Set, Books 1-5 (Harry Potter, #1-5)",
                                    "3": "4.77"
                                },
                                {
                                    "0": "5031805",
                                    "1": "Anonymous, Lane T. Dennis, Wayne A. Grudem",
                                    "2": "ESV Study Bible",
                                    "3": "4.76"
                                },
                                {
                                    "0": "95602",
                                    "1": "Francine Rivers",
                                    "2": "Mark of the Lion Trilogy",
                                    "3": "4.76"
                                },
                                {
                                    "0": "24814",
                                    "1": "Bill Watterson",
                                    "2": "It's a Magical World: A Calvin and Hobbes Collection",
                                    "3": "4.75"
                                },
                                {
                                    "0": "862041",
                                    "1": "J.K. Rowling",
                                    "2": "Harry Potter Boxset (Harry Potter, #1-7)",
                                    "3": "4.74"
                                },
                                {
                                    "0": "70489",
                                    "1": "Bill Watterson",
                                    "2": "There's Treasure Everywhere: A Calvin and Hobbes Collection",
                                    "3": "4.74"
                                },
                                {
                                    "0": "10",
                                    "1": "J.K. Rowling",
                                    "2": "Harry Potter Collection (Harry Potter, #1-6)",
                                    "3": "4.73"
                                },
                                {
                                    "0": "59715",
                                    "1": "Bill Watterson",
                                    "2": "The Authoritative Calvin and Hobbes: A Calvin and Hobbes Treasury",
                                    "3": "4.73"
                                }
                            ]
                        },
                        "text/html": [
                            "<table>",
                            "<tr><th>book_id</th><th>authors</th><th>title</th><th>Rating Average</th></tr>",
                            "<tr><td>24812</td><td>Bill Watterson</td><td>The Complete Calvin and Hobbes</td><td>4.82</td></tr>",
                            "<tr><td>17332218</td><td>Brandon Sanderson</td><td>Words of Radiance (The Stormlight Archive, #2)</td><td>4.77</td></tr>",
                            "<tr><td>8</td><td>J.K. Rowling, Mary GrandPré</td><td>Harry Potter Boxed Set, Books 1-5 (Harry Potter, #1-5)</td><td>4.77</td></tr>",
                            "<tr><td>5031805</td><td>Anonymous, Lane T. Dennis, Wayne A. Grudem</td><td>ESV Study Bible</td><td>4.76</td></tr>",
                            "<tr><td>95602</td><td>Francine Rivers</td><td>Mark of the Lion Trilogy</td><td>4.76</td></tr>",
                            "<tr><td>24814</td><td>Bill Watterson</td><td>It's a Magical World: A Calvin and Hobbes Collection</td><td>4.75</td></tr>",
                            "<tr><td>862041</td><td>J.K. Rowling</td><td>Harry Potter Boxset (Harry Potter, #1-7)</td><td>4.74</td></tr>",
                            "<tr><td>70489</td><td>Bill Watterson</td><td>There's Treasure Everywhere: A Calvin and Hobbes Collection</td><td>4.74</td></tr>",
                            "<tr><td>10</td><td>J.K. Rowling</td><td>Harry Potter Collection (Harry Potter, #1-6)</td><td>4.73</td></tr>",
                            "<tr><td>59715</td><td>Bill Watterson</td><td>The Authoritative Calvin and Hobbes: A Calvin and Hobbes Treasury</td><td>4.73</td></tr>",
                            "</table>"
                        ]
                    }
                }
            ],
            "execution_count": 15
        },
        {
            "cell_type": "markdown",
            "source": [
                "Question 2: Write a query to find the least popular book."
            ],
            "metadata": {
                "azdata_cell_guid": "777429b8-8622-489d-9c49-e2acecd7f17e"
            },
            "attachments": {}
        },
        {
            "cell_type": "code",
            "source": [
                "-- return least popular book\n",
                "SELECT TOP 1 title, average_rating FROM BooksDB.dbo.books ORDER BY average_rating ASC"
            ],
            "metadata": {
                "azdata_cell_guid": "c78a1779-db74-470f-a60a-7c72a43d774b",
                "language": "sql"
            },
            "outputs": [
                {
                    "output_type": "display_data",
                    "data": {
                        "text/html": "(1 row affected)"
                    },
                    "metadata": {}
                },
                {
                    "output_type": "display_data",
                    "data": {
                        "text/html": "Total execution time: 00:00:00.045"
                    },
                    "metadata": {}
                },
                {
                    "output_type": "execute_result",
                    "metadata": {},
                    "execution_count": 17,
                    "data": {
                        "application/vnd.dataresource+json": {
                            "schema": {
                                "fields": [
                                    {
                                        "name": "title"
                                    },
                                    {
                                        "name": "average_rating"
                                    }
                                ]
                            },
                            "data": [
                                {
                                    "0": "One Night at the Call Center",
                                    "1": "2.47"
                                }
                            ]
                        },
                        "text/html": [
                            "<table>",
                            "<tr><th>title</th><th>average_rating</th></tr>",
                            "<tr><td>One Night at the Call Center</td><td>2.47</td></tr>",
                            "</table>"
                        ]
                    }
                }
            ],
            "execution_count": 17
        },
        {
            "cell_type": "code",
            "source": [
                "SELECT TOP 10 * FROM BooksDB.dbo.books"
            ],
            "metadata": {
                "azdata_cell_guid": "748a3506-9f5a-49d0-b27b-2c2197fd37ad",
                "language": "sql"
            },
            "outputs": [
                {
                    "output_type": "display_data",
                    "data": {
                        "text/html": "(10 rows affected)"
                    },
                    "metadata": {}
                },
                {
                    "output_type": "display_data",
                    "data": {
                        "text/html": "Total execution time: 00:00:00.032"
                    },
                    "metadata": {}
                },
                {
                    "output_type": "execute_result",
                    "metadata": {},
                    "execution_count": 18,
                    "data": {
                        "application/vnd.dataresource+json": {
                            "schema": {
                                "fields": [
                                    {
                                        "name": "id"
                                    },
                                    {
                                        "name": "book_id"
                                    },
                                    {
                                        "name": "best_book_id"
                                    },
                                    {
                                        "name": "work_id"
                                    },
                                    {
                                        "name": "books_count"
                                    },
                                    {
                                        "name": "isbn"
                                    },
                                    {
                                        "name": "isbn13"
                                    },
                                    {
                                        "name": "authors"
                                    },
                                    {
                                        "name": "original_publication_year"
                                    },
                                    {
                                        "name": "original_title"
                                    },
                                    {
                                        "name": "title"
                                    },
                                    {
                                        "name": "language_code"
                                    },
                                    {
                                        "name": "average_rating"
                                    },
                                    {
                                        "name": "ratings_count"
                                    },
                                    {
                                        "name": "work_ratings_count"
                                    },
                                    {
                                        "name": "work_text_reviews_count"
                                    },
                                    {
                                        "name": "ratings_1"
                                    },
                                    {
                                        "name": "ratings_2"
                                    },
                                    {
                                        "name": "ratings_3"
                                    },
                                    {
                                        "name": "ratings_4"
                                    },
                                    {
                                        "name": "ratings_5"
                                    },
                                    {
                                        "name": "image_url"
                                    },
                                    {
                                        "name": "small_image_url"
                                    }
                                ]
                            },
                            "data": [
                                {
                                    "0": "1",
                                    "1": "2767052",
                                    "2": "2767052",
                                    "3": "2792775",
                                    "4": "272",
                                    "5": "439023483",
                                    "6": "9780439023480",
                                    "7": "Suzanne Collins",
                                    "8": "2008",
                                    "9": "The Hunger Games",
                                    "10": "The Hunger Games (The Hunger Games, #1)",
                                    "11": "eng",
                                    "12": "4.34",
                                    "13": "4780653",
                                    "14": "4942365",
                                    "15": "155254",
                                    "16": "66715",
                                    "17": "127936",
                                    "18": "560092",
                                    "19": "1481305",
                                    "20": "2706317",
                                    "21": "https://images.gr-assets.com/books/1447303603m/2767052.jpg",
                                    "22": "https://images.gr-assets.com/books/1447303603s/2767052.jpg"
                                },
                                {
                                    "0": "2",
                                    "1": "3",
                                    "2": "3",
                                    "3": "4640799",
                                    "4": "491",
                                    "5": "439554934",
                                    "6": "9780439554930",
                                    "7": "J.K. Rowling, Mary GrandPré",
                                    "8": "1997",
                                    "9": "Harry Potter and the Philosopher's Stone",
                                    "10": "Harry Potter and the Sorcerer's Stone (Harry Potter, #1)",
                                    "11": "eng",
                                    "12": "4.44",
                                    "13": "4602479",
                                    "14": "4800065",
                                    "15": "75867",
                                    "16": "75504",
                                    "17": "101676",
                                    "18": "455024",
                                    "19": "1156318",
                                    "20": "3011543",
                                    "21": "https://images.gr-assets.com/books/1474154022m/3.jpg",
                                    "22": "https://images.gr-assets.com/books/1474154022s/3.jpg"
                                },
                                {
                                    "0": "3",
                                    "1": "41865",
                                    "2": "41865",
                                    "3": "3212258",
                                    "4": "226",
                                    "5": "316015849",
                                    "6": "9780316015840",
                                    "7": "Stephenie Meyer",
                                    "8": "2005",
                                    "9": "Twilight",
                                    "10": "Twilight (Twilight, #1)",
                                    "11": "en-US",
                                    "12": "3.57",
                                    "13": "3866839",
                                    "14": "3916824",
                                    "15": "95009",
                                    "16": "456191",
                                    "17": "436802",
                                    "18": "793319",
                                    "19": "875073",
                                    "20": "1355439",
                                    "21": "https://images.gr-assets.com/books/1361039443m/41865.jpg",
                                    "22": "https://images.gr-assets.com/books/1361039443s/41865.jpg"
                                },
                                {
                                    "0": "4",
                                    "1": "2657",
                                    "2": "2657",
                                    "3": "3275794",
                                    "4": "487",
                                    "5": "61120081",
                                    "6": "9780061120080",
                                    "7": "Harper Lee",
                                    "8": "1960",
                                    "9": "To Kill a Mockingbird",
                                    "10": "To Kill a Mockingbird",
                                    "11": "eng",
                                    "12": "4.25",
                                    "13": "3198671",
                                    "14": "3340896",
                                    "15": "72586",
                                    "16": "60427",
                                    "17": "117415",
                                    "18": "446835",
                                    "19": "1001952",
                                    "20": "1714267",
                                    "21": "https://images.gr-assets.com/books/1361975680m/2657.jpg",
                                    "22": "https://images.gr-assets.com/books/1361975680s/2657.jpg"
                                },
                                {
                                    "0": "5",
                                    "1": "4671",
                                    "2": "4671",
                                    "3": "245494",
                                    "4": "1356",
                                    "5": "743273567",
                                    "6": "9780743273560",
                                    "7": "F. Scott Fitzgerald",
                                    "8": "1925",
                                    "9": "The Great Gatsby",
                                    "10": "The Great Gatsby",
                                    "11": "eng",
                                    "12": "3.89",
                                    "13": "2683664",
                                    "14": "2773745",
                                    "15": "51992",
                                    "16": "86236",
                                    "17": "197621",
                                    "18": "606158",
                                    "19": "936012",
                                    "20": "947718",
                                    "21": "https://images.gr-assets.com/books/1490528560m/4671.jpg",
                                    "22": "https://images.gr-assets.com/books/1490528560s/4671.jpg"
                                },
                                {
                                    "0": "6",
                                    "1": "11870085",
                                    "2": "11870085",
                                    "3": "16827462",
                                    "4": "226",
                                    "5": "525478817",
                                    "6": "9780525478810",
                                    "7": "John Green",
                                    "8": "2012",
                                    "9": "The Fault in Our Stars",
                                    "10": "The Fault in Our Stars",
                                    "11": "eng",
                                    "12": "4.26",
                                    "13": "2346404",
                                    "14": "2478609",
                                    "15": "140739",
                                    "16": "47994",
                                    "17": "92723",
                                    "18": "327550",
                                    "19": "698471",
                                    "20": "1311871",
                                    "21": "https://images.gr-assets.com/books/1360206420m/11870085.jpg",
                                    "22": "https://images.gr-assets.com/books/1360206420s/11870085.jpg"
                                },
                                {
                                    "0": "7",
                                    "1": "5907",
                                    "2": "5907",
                                    "3": "1540236",
                                    "4": "969",
                                    "5": "618260307",
                                    "6": "9780618260300",
                                    "7": "J.R.R. Tolkien",
                                    "8": "1937",
                                    "9": "The Hobbit or There and Back Again",
                                    "10": "The Hobbit",
                                    "11": "en-US",
                                    "12": "4.25",
                                    "13": "2071616",
                                    "14": "2196809",
                                    "15": "37653",
                                    "16": "46023",
                                    "17": "76784",
                                    "18": "288649",
                                    "19": "665635",
                                    "20": "1119718",
                                    "21": "https://images.gr-assets.com/books/1372847500m/5907.jpg",
                                    "22": "https://images.gr-assets.com/books/1372847500s/5907.jpg"
                                },
                                {
                                    "0": "8",
                                    "1": "5107",
                                    "2": "5107",
                                    "3": "3036731",
                                    "4": "360",
                                    "5": "316769177",
                                    "6": "9780316769170",
                                    "7": "J.D. Salinger",
                                    "8": "1951",
                                    "9": "The Catcher in the Rye",
                                    "10": "The Catcher in the Rye",
                                    "11": "eng",
                                    "12": "3.79",
                                    "13": "2044241",
                                    "14": "2120637",
                                    "15": "44920",
                                    "16": "109383",
                                    "17": "185520",
                                    "18": "455042",
                                    "19": "661516",
                                    "20": "709176",
                                    "21": "https://images.gr-assets.com/books/1398034300m/5107.jpg",
                                    "22": "https://images.gr-assets.com/books/1398034300s/5107.jpg"
                                },
                                {
                                    "0": "9",
                                    "1": "960",
                                    "2": "960",
                                    "3": "3338963",
                                    "4": "311",
                                    "5": "1416524797",
                                    "6": "9781416524790",
                                    "7": "Dan Brown",
                                    "8": "2000",
                                    "9": "Angels & Demons ",
                                    "10": "Angels & Demons  (Robert Langdon, #1)",
                                    "11": "en-CA",
                                    "12": "3.85",
                                    "13": "2001311",
                                    "14": "2078754",
                                    "15": "25112",
                                    "16": "77841",
                                    "17": "145740",
                                    "18": "458429",
                                    "19": "716569",
                                    "20": "680175",
                                    "21": "https://images.gr-assets.com/books/1303390735m/960.jpg",
                                    "22": "https://images.gr-assets.com/books/1303390735s/960.jpg"
                                },
                                {
                                    "0": "10",
                                    "1": "1885",
                                    "2": "1885",
                                    "3": "3060926",
                                    "4": "3455",
                                    "5": "679783261",
                                    "6": "9780679783270",
                                    "7": "Jane Austen",
                                    "8": "1813",
                                    "9": "Pride and Prejudice",
                                    "10": "Pride and Prejudice",
                                    "11": "eng",
                                    "12": "4.24",
                                    "13": "2035490",
                                    "14": "2191465",
                                    "15": "49152",
                                    "16": "54700",
                                    "17": "86485",
                                    "18": "284852",
                                    "19": "609755",
                                    "20": "1155673",
                                    "21": "https://images.gr-assets.com/books/1320399351m/1885.jpg",
                                    "22": "https://images.gr-assets.com/books/1320399351s/1885.jpg"
                                }
                            ]
                        },
                        "text/html": [
                            "<table>",
                            "<tr><th>id</th><th>book_id</th><th>best_book_id</th><th>work_id</th><th>books_count</th><th>isbn</th><th>isbn13</th><th>authors</th><th>original_publication_year</th><th>original_title</th><th>title</th><th>language_code</th><th>average_rating</th><th>ratings_count</th><th>work_ratings_count</th><th>work_text_reviews_count</th><th>ratings_1</th><th>ratings_2</th><th>ratings_3</th><th>ratings_4</th><th>ratings_5</th><th>image_url</th><th>small_image_url</th></tr>",
                            "<tr><td>1</td><td>2767052</td><td>2767052</td><td>2792775</td><td>272</td><td>439023483</td><td>9780439023480</td><td>Suzanne Collins</td><td>2008</td><td>The Hunger Games</td><td>The Hunger Games (The Hunger Games, #1)</td><td>eng</td><td>4.34</td><td>4780653</td><td>4942365</td><td>155254</td><td>66715</td><td>127936</td><td>560092</td><td>1481305</td><td>2706317</td><td>https://images.gr-assets.com/books/1447303603m/2767052.jpg</td><td>https://images.gr-assets.com/books/1447303603s/2767052.jpg</td></tr>",
                            "<tr><td>2</td><td>3</td><td>3</td><td>4640799</td><td>491</td><td>439554934</td><td>9780439554930</td><td>J.K. Rowling, Mary GrandPré</td><td>1997</td><td>Harry Potter and the Philosopher's Stone</td><td>Harry Potter and the Sorcerer's Stone (Harry Potter, #1)</td><td>eng</td><td>4.44</td><td>4602479</td><td>4800065</td><td>75867</td><td>75504</td><td>101676</td><td>455024</td><td>1156318</td><td>3011543</td><td>https://images.gr-assets.com/books/1474154022m/3.jpg</td><td>https://images.gr-assets.com/books/1474154022s/3.jpg</td></tr>",
                            "<tr><td>3</td><td>41865</td><td>41865</td><td>3212258</td><td>226</td><td>316015849</td><td>9780316015840</td><td>Stephenie Meyer</td><td>2005</td><td>Twilight</td><td>Twilight (Twilight, #1)</td><td>en-US</td><td>3.57</td><td>3866839</td><td>3916824</td><td>95009</td><td>456191</td><td>436802</td><td>793319</td><td>875073</td><td>1355439</td><td>https://images.gr-assets.com/books/1361039443m/41865.jpg</td><td>https://images.gr-assets.com/books/1361039443s/41865.jpg</td></tr>",
                            "<tr><td>4</td><td>2657</td><td>2657</td><td>3275794</td><td>487</td><td>61120081</td><td>9780061120080</td><td>Harper Lee</td><td>1960</td><td>To Kill a Mockingbird</td><td>To Kill a Mockingbird</td><td>eng</td><td>4.25</td><td>3198671</td><td>3340896</td><td>72586</td><td>60427</td><td>117415</td><td>446835</td><td>1001952</td><td>1714267</td><td>https://images.gr-assets.com/books/1361975680m/2657.jpg</td><td>https://images.gr-assets.com/books/1361975680s/2657.jpg</td></tr>",
                            "<tr><td>5</td><td>4671</td><td>4671</td><td>245494</td><td>1356</td><td>743273567</td><td>9780743273560</td><td>F. Scott Fitzgerald</td><td>1925</td><td>The Great Gatsby</td><td>The Great Gatsby</td><td>eng</td><td>3.89</td><td>2683664</td><td>2773745</td><td>51992</td><td>86236</td><td>197621</td><td>606158</td><td>936012</td><td>947718</td><td>https://images.gr-assets.com/books/1490528560m/4671.jpg</td><td>https://images.gr-assets.com/books/1490528560s/4671.jpg</td></tr>",
                            "<tr><td>6</td><td>11870085</td><td>11870085</td><td>16827462</td><td>226</td><td>525478817</td><td>9780525478810</td><td>John Green</td><td>2012</td><td>The Fault in Our Stars</td><td>The Fault in Our Stars</td><td>eng</td><td>4.26</td><td>2346404</td><td>2478609</td><td>140739</td><td>47994</td><td>92723</td><td>327550</td><td>698471</td><td>1311871</td><td>https://images.gr-assets.com/books/1360206420m/11870085.jpg</td><td>https://images.gr-assets.com/books/1360206420s/11870085.jpg</td></tr>",
                            "<tr><td>7</td><td>5907</td><td>5907</td><td>1540236</td><td>969</td><td>618260307</td><td>9780618260300</td><td>J.R.R. Tolkien</td><td>1937</td><td>The Hobbit or There and Back Again</td><td>The Hobbit</td><td>en-US</td><td>4.25</td><td>2071616</td><td>2196809</td><td>37653</td><td>46023</td><td>76784</td><td>288649</td><td>665635</td><td>1119718</td><td>https://images.gr-assets.com/books/1372847500m/5907.jpg</td><td>https://images.gr-assets.com/books/1372847500s/5907.jpg</td></tr>",
                            "<tr><td>8</td><td>5107</td><td>5107</td><td>3036731</td><td>360</td><td>316769177</td><td>9780316769170</td><td>J.D. Salinger</td><td>1951</td><td>The Catcher in the Rye</td><td>The Catcher in the Rye</td><td>eng</td><td>3.79</td><td>2044241</td><td>2120637</td><td>44920</td><td>109383</td><td>185520</td><td>455042</td><td>661516</td><td>709176</td><td>https://images.gr-assets.com/books/1398034300m/5107.jpg</td><td>https://images.gr-assets.com/books/1398034300s/5107.jpg</td></tr>",
                            "<tr><td>9</td><td>960</td><td>960</td><td>3338963</td><td>311</td><td>1416524797</td><td>9781416524790</td><td>Dan Brown</td><td>2000</td><td>Angels &amp; Demons </td><td>Angels &amp; Demons  (Robert Langdon, #1)</td><td>en-CA</td><td>3.85</td><td>2001311</td><td>2078754</td><td>25112</td><td>77841</td><td>145740</td><td>458429</td><td>716569</td><td>680175</td><td>https://images.gr-assets.com/books/1303390735m/960.jpg</td><td>https://images.gr-assets.com/books/1303390735s/960.jpg</td></tr>",
                            "<tr><td>10</td><td>1885</td><td>1885</td><td>3060926</td><td>3455</td><td>679783261</td><td>9780679783270</td><td>Jane Austen</td><td>1813</td><td>Pride and Prejudice</td><td>Pride and Prejudice</td><td>eng</td><td>4.24</td><td>2035490</td><td>2191465</td><td>49152</td><td>54700</td><td>86485</td><td>284852</td><td>609755</td><td>1155673</td><td>https://images.gr-assets.com/books/1320399351m/1885.jpg</td><td>https://images.gr-assets.com/books/1320399351s/1885.jpg</td></tr>",
                            "</table>"
                        ]
                    }
                }
            ],
            "execution_count": 18
        },
        {
            "cell_type": "markdown",
            "source": [
                "Question 3: Which tag is the most popular?"
            ],
            "metadata": {
                "azdata_cell_guid": "a370909d-5d64-49e2-8fec-5220730c8ca7"
            },
            "attachments": {}
        },
        {
            "cell_type": "code",
            "source": [
                "-- return most popular tag\n",
                "SELECT TOP 1 tag_id FROM BooksDB.dbo.book_tags ORDER BY count DESC"
            ],
            "metadata": {
                "azdata_cell_guid": "9e0451dc-c4d3-4775-9eb1-904854f459ff",
                "tags": [],
                "language": "sql"
            },
            "outputs": [
                {
                    "output_type": "display_data",
                    "data": {
                        "text/html": "(1 row affected)"
                    },
                    "metadata": {}
                },
                {
                    "output_type": "display_data",
                    "data": {
                        "text/html": "Total execution time: 00:00:00.287"
                    },
                    "metadata": {}
                },
                {
                    "output_type": "execute_result",
                    "metadata": {},
                    "execution_count": 11,
                    "data": {
                        "application/vnd.dataresource+json": {
                            "schema": {
                                "fields": [
                                    {
                                        "name": "tag_id"
                                    }
                                ]
                            },
                            "data": [
                                {
                                    "0": "30574"
                                }
                            ]
                        },
                        "text/html": [
                            "<table>",
                            "<tr><th>tag_id</th></tr>",
                            "<tr><td>30574</td></tr>",
                            "</table>"
                        ]
                    }
                }
            ],
            "execution_count": 11
        },
        {
            "cell_type": "markdown",
            "source": [
                "Question 4: What is the name of the most popular tag?"
            ],
            "metadata": {
                "azdata_cell_guid": "3cdfa7e6-c5a6-49fb-aa27-afeece881627"
            },
            "attachments": {}
        },
        {
            "cell_type": "code",
            "source": [
                "-- return name of most popular tag\n"
            ],
            "metadata": {
                "azdata_cell_guid": "3cd3a3ec-4ce2-49b6-b714-44179eed00e1",
                "language": "sql"
            },
            "outputs": [],
            "execution_count": null
        },
        {
            "cell_type": "markdown",
            "source": [
                "Question 5: How many books where released in the first decade of 2000?"
            ],
            "metadata": {
                "azdata_cell_guid": "b3962545-c0c2-47ca-a3c4-299c2c0a4b0c"
            },
            "attachments": {}
        },
        {
            "cell_type": "code",
            "source": [
                "-- return number of books published in the first decade of 2000\n",
                "SELECT COUNT(*) FROM  BooksDB.dbo.books WHERE original_publication_year BETWEEN 2000 AND 2010 "
            ],
            "metadata": {
                "azdata_cell_guid": "8dcd65e9-1b3e-4cf8-b726-26729a1225f2",
                "language": "sql"
            },
            "outputs": [
                {
                    "output_type": "display_data",
                    "data": {
                        "text/html": "(1 row affected)"
                    },
                    "metadata": {}
                },
                {
                    "output_type": "display_data",
                    "data": {
                        "text/html": "Total execution time: 00:00:00.034"
                    },
                    "metadata": {}
                },
                {
                    "output_type": "execute_result",
                    "metadata": {},
                    "execution_count": 20,
                    "data": {
                        "application/vnd.dataresource+json": {
                            "schema": {
                                "fields": [
                                    {
                                        "name": "(No column name)"
                                    }
                                ]
                            },
                            "data": [
                                {
                                    "0": "3594"
                                }
                            ]
                        },
                        "text/html": [
                            "<table>",
                            "<tr><th>(No column name)</th></tr>",
                            "<tr><td>3594</td></tr>",
                            "</table>"
                        ]
                    }
                }
            ],
            "execution_count": 20
        },
        {
            "cell_type": "markdown",
            "source": [
                "Question 6: How many book titles contain the word Happy?"
            ],
            "metadata": {
                "azdata_cell_guid": "5080d6de-2775-4055-97ae-f93fce97a426"
            },
            "attachments": {}
        },
        {
            "cell_type": "code",
            "source": [
                "-- return number of books that contain the word Happy\n",
                "SELECT COUNT(*) FROM [BooksDB].[dbo].[books] WHERE title LIKE '%happy%'"
            ],
            "metadata": {
                "azdata_cell_guid": "f55f18b9-91b1-4761-ad8c-4758434d7827",
                "language": "sql"
            },
            "outputs": [
                {
                    "output_type": "display_data",
                    "data": {
                        "text/html": "(1 row affected)"
                    },
                    "metadata": {}
                },
                {
                    "output_type": "display_data",
                    "data": {
                        "text/html": "Total execution time: 00:00:00.078"
                    },
                    "metadata": {}
                },
                {
                    "output_type": "execute_result",
                    "metadata": {},
                    "execution_count": 22,
                    "data": {
                        "application/vnd.dataresource+json": {
                            "schema": {
                                "fields": [
                                    {
                                        "name": "(No column name)"
                                    }
                                ]
                            },
                            "data": [
                                {
                                    "0": "13"
                                }
                            ]
                        },
                        "text/html": [
                            "<table>",
                            "<tr><th>(No column name)</th></tr>",
                            "<tr><td>13</td></tr>",
                            "</table>"
                        ]
                    }
                }
            ],
            "execution_count": 22
        },
        {
            "cell_type": "markdown",
            "source": [
                "Question 7: List the books from the top 3 authors from question 1.  If there is more than one author just use the first one. Sort the titles <span style=\"background-color: rgba(127, 127, 127, 0.1); font-family: -apple-system, BlinkMacSystemFont, sans-serif;\">alphabetically by author and then by average_rating, best rated to lowest. Does order matter in sorting?</span>"
            ],
            "metadata": {
                "azdata_cell_guid": "d38270ef-da5a-42b4-802a-506acb8b9e4b"
            },
            "attachments": {}
        },
        {
            "cell_type": "code",
            "source": [, 
                "-- return all books from the top 3 authors, sort by author and rating\n",
                "SELECT TOP 3 authors FROM BooksDB.dbo.books ORDER BY average_rating DESC"
            ],
            "metadata": {
                "azdata_cell_guid": "47466fac-5d8d-491d-bd3c-2f8496f55e6b",
                "language": "sql"
            },
            "outputs": [
{
    "output_type": "display_data",
    "data": {
        "text/html": "(3 rows affected)"
    },
    "metadata": {}
}, {
    "output_type": "display_data",
    "data": {
        "text/html": "Total execution time: 00:00:00.045"
    },
    "metadata": {}
}, {
    "output_type": "execute_result",
    "metadata": {},
    "execution_count": 23,
    "data": {
        "application/vnd.dataresource+json": {
            "schema": {
                "fields": [
                    {
                        "name": "authors"
                    }
                ]
            },
            "data": [
                {
                    "0": "Bill Watterson"
                },
                {
                    "0": "Brandon Sanderson"
                },
                {
                    "0": "J.K. Rowling, Mary GrandPré"
                }
            ]
        },
        "text/html": [
            "<table>",
            "<tr><th>authors</th></tr>",
            "<tr><td>Bill Watterson</td></tr>",
            "<tr><td>Brandon Sanderson</td></tr>",
            "<tr><td>J.K. Rowling, Mary GrandPré</td></tr>",
            "</table>"
        ]
    }
}
],
            "execution_count": 23
        },
        {
            "cell_type": "markdown",
            "source": [
                "Question 8: Take a close look at J.K. Rowling.  Is her top rated book on this list from question 1?  Why might this be? How could we account for this?\n",
                "\n",
                "> Click here to add your answer."
            ],
            "metadata": {
                "azdata_cell_guid": "db907c70-0bbd-4121-ac91-ae814f703243"
            },
            "attachments": {}
        },
        {
            "cell_type": "markdown",
            "source": [
                "Try updating your above query to include all of J.K. Rowling's books.\n",
                "\n",
                "Are there any other issues?\n",
                "\n",
                "> Click here to add your answer."
            ],
            "metadata": {
                "azdata_cell_guid": "35ee4a48-8e84-4eb5-95ca-f5cdddc8d682"
            },
            "attachments": {}
        },
        {
            "cell_type": "code",
            "source": [
                "-- Try updating your above query to include all of J.K. Rowling's books\n",
                ""
            ],
            "metadata": {
                "azdata_cell_guid": "ce489012-fce9-435c-b570-7734223a0678",
                "tags": [],
                "language": "sql"
            },
            "outputs": [],
            "execution_count": null
        },
        {
            "cell_type": "markdown",
            "source": [
                "Question 9: Write a query that returns the number of Authors whose first name is between rock and roll."
            ],
            "metadata": {
                "azdata_cell_guid": "75bf5054-4918-4e9e-8e03-24a38ffab9cc"
            },
            "attachments": {}
        },
        {
            "cell_type": "code",
            "source": [
                "-- return number of authors whose first name is between rock and roll\n",
                "\n"
            ],
            "metadata": {
                "azdata_cell_guid": "491b2492-95d4-4078-b319-386b0c5592ec",
                "language": "sql"
            },
            "outputs": [],
            "execution_count": null
        },
        {
            "cell_type": "markdown",
            "source": [
                "## Part 2. Write your own question and write a query to answer it.\n",
                "\n",
                "Your Question:  Click here to add"
            ],
            "metadata": {
                "azdata_cell_guid": "1ba1363a-4f02-4962-a95a-93b80c5926b1"
            },
            "attachments": {}
        },
        {
            "cell_type": "code",
            "source": [
                "-- Add your querry here\n"
            ],
            "metadata": {
                "azdata_cell_guid": "607f1a61-b306-42bf-a20c-60ec3a6ba86a",
                "language": "sql"
            },
            "outputs": [],
            "execution_count": null
        },
        {
            "cell_type": "markdown",
            "source": [
                "Your Question: Click here to add"
            ],
            "metadata": {
                "azdata_cell_guid": "9386ad04-a016-44d4-8c5c-d25a102d47b4"
            }
        },
        {
            "cell_type": "code",
            "source": [
                "-- Add your querry here\n"
            ],
            "metadata": {
                "azdata_cell_guid": "15f249cf-aad7-468d-92e1-429b2a09f285",
                "language": "sql"
            },
            "outputs": [],
            "execution_count": null
        },
        {
            "cell_type": "markdown",
            "source": [
                "**Some Question Examples:**\n",
                "\n",
                "Write a query that returns the longest title?\n",
                "\n",
                "Which Author has written the most books?  \n",
                "\n",
                "Top  ten books written the year I was born?"
            ],
            "metadata": {
                "azdata_cell_guid": "7160362b-7127-4123-bd1d-95a94ae38a07"
            }
        }
    ]
}